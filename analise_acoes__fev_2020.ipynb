{
  "nbformat": 4,
  "nbformat_minor": 0,
  "metadata": {
    "colab": {
      "name": "analise_acoes__fev_2020.ipynb",
      "provenance": [],
      "collapsed_sections": [],
      "authorship_tag": "ABX9TyOsGKWQEn75kj8+g+4ZC55J",
      "include_colab_link": true
    },
    "kernelspec": {
      "name": "python3",
      "display_name": "Python 3"
    }
  },
  "cells": [
    {
      "cell_type": "markdown",
      "metadata": {
        "id": "view-in-github",
        "colab_type": "text"
      },
      "source": [
        "<a href=\"https://colab.research.google.com/github/ehgeraldo/analise_acao_taeesa_taee11/blob/master/analise_acoes__fev_2020.ipynb\" target=\"_parent\"><img src=\"https://colab.research.google.com/assets/colab-badge.svg\" alt=\"Open In Colab\"/></a>"
      ]
    },
    {
      "cell_type": "markdown",
      "metadata": {
        "id": "1Bvjt6FLSgxW",
        "colab_type": "text"
      },
      "source": [
        "**Melhores ações para 2020: veja boas opções para investir**\n",
        "\n",
        "\n"
      ]
    },
    {
      "cell_type": "markdown",
      "metadata": {
        "id": "owU5ccyFIKgx",
        "colab_type": "text"
      },
      "source": [
        "**Análise de uma ação negociadas no mercado brasileiro com data sciente, escolhidas com base de analistas e site de referência logo abaixo:**\n",
        "\n",
        "\n",
        "\n",
        "\n",
        "**Referências para a escolha das ações:**\n",
        "\n",
        "**https://blog.toroinvestimentos.com.br/melhores-acoes-2020**\n",
        "\n",
        "\n",
        "\n",
        "**Empresas de energia elétrica: Taesa - TAEE11**\n",
        "\n",
        "\n",
        "\n"
      ]
    },
    {
      "cell_type": "markdown",
      "metadata": {
        "id": "Ssdh8CkTSgu5",
        "colab_type": "text"
      },
      "source": [
        ""
      ]
    },
    {
      "cell_type": "markdown",
      "metadata": {
        "id": "ZXc0ilndOfbo",
        "colab_type": "text"
      },
      "source": [
        "* Vale ressaltar que a intenção é aplicação de dataScience."
      ]
    },
    {
      "cell_type": "markdown",
      "metadata": {
        "id": "p2JXQaViIZMN",
        "colab_type": "text"
      },
      "source": [
        "**Importaremos uma figura para ilustrar o assunto: de Análise Técnica:**"
      ]
    },
    {
      "cell_type": "code",
      "metadata": {
        "id": "k6SnnxSpFnMb",
        "colab_type": "code",
        "colab": {}
      },
      "source": [
        "from google.colab import files\n",
        "from IPython.display import Image"
      ],
      "execution_count": 0,
      "outputs": []
    },
    {
      "cell_type": "code",
      "metadata": {
        "id": "0f9jsVmRFrcL",
        "colab_type": "code",
        "outputId": "84cbd894-a3ea-4adb-cf4e-608fa2029202",
        "colab": {
          "resources": {
            "http://localhost:8080/nbextensions/google.colab/files.js": {
              "data": "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",
              "ok": true,
              "headers": [
                [
                  "content-type",
                  "application/javascript"
                ]
              ],
              "status": 200,
              "status_text": ""
            }
          },
          "base_uri": "https://localhost:8080/",
          "height": 39
        }
      },
      "source": [
        "upload = files.upload()\n"
      ],
      "execution_count": 3,
      "outputs": [
        {
          "output_type": "display_data",
          "data": {
            "text/html": [
              "\n",
              "     <input type=\"file\" id=\"files-479c7c52-b3fc-482b-b5f5-cafce83c23d7\" name=\"files[]\" multiple disabled />\n",
              "     <output id=\"result-479c7c52-b3fc-482b-b5f5-cafce83c23d7\">\n",
              "      Upload widget is only available when the cell has been executed in the\n",
              "      current browser session. Please rerun this cell to enable.\n",
              "      </output>\n",
              "      <script src=\"/nbextensions/google.colab/files.js\"></script> "
            ],
            "text/plain": [
              "<IPython.core.display.HTML object>"
            ]
          },
          "metadata": {
            "tags": []
          }
        }
      ]
    },
    {
      "cell_type": "code",
      "metadata": {
        "id": "CEjMRc3tGE39",
        "colab_type": "code",
        "outputId": "03b69b16-8889-4d73-f69c-0fa05562df18",
        "colab": {
          "base_uri": "https://localhost:8080/",
          "height": 35
        }
      },
      "source": [
        "Image('analise_tecnica.jpg', width = 1000)"
      ],
      "execution_count": 4,
      "outputs": [
        {
          "output_type": "execute_result",
          "data": {
            "image/png": "analise_tecnica.jpg",
            "text/plain": [
              "<IPython.core.display.Image object>"
            ]
          },
          "metadata": {
            "tags": [],
            "image/png": {
              "width": 1000
            }
          },
          "execution_count": 4
        }
      ]
    },
    {
      "cell_type": "code",
      "metadata": {
        "id": "kjEM32xkG36z",
        "colab_type": "code",
        "outputId": "a83351c9-f89c-4e81-926f-329bc92bf2ec",
        "colab": {
          "base_uri": "https://localhost:8080/",
          "height": 254
        }
      },
      "source": [
        "! pip install pandas_datareader"
      ],
      "execution_count": 5,
      "outputs": [
        {
          "output_type": "stream",
          "text": [
            "Requirement already satisfied: pandas_datareader in /usr/local/lib/python3.6/dist-packages (0.7.4)\n",
            "Requirement already satisfied: pandas>=0.19.2 in /usr/local/lib/python3.6/dist-packages (from pandas_datareader) (0.25.3)\n",
            "Requirement already satisfied: lxml in /usr/local/lib/python3.6/dist-packages (from pandas_datareader) (4.2.6)\n",
            "Requirement already satisfied: requests>=2.3.0 in /usr/local/lib/python3.6/dist-packages (from pandas_datareader) (2.21.0)\n",
            "Requirement already satisfied: wrapt in /usr/local/lib/python3.6/dist-packages (from pandas_datareader) (1.11.2)\n",
            "Requirement already satisfied: python-dateutil>=2.6.1 in /usr/local/lib/python3.6/dist-packages (from pandas>=0.19.2->pandas_datareader) (2.6.1)\n",
            "Requirement already satisfied: numpy>=1.13.3 in /usr/local/lib/python3.6/dist-packages (from pandas>=0.19.2->pandas_datareader) (1.17.5)\n",
            "Requirement already satisfied: pytz>=2017.2 in /usr/local/lib/python3.6/dist-packages (from pandas>=0.19.2->pandas_datareader) (2018.9)\n",
            "Requirement already satisfied: idna<2.9,>=2.5 in /usr/local/lib/python3.6/dist-packages (from requests>=2.3.0->pandas_datareader) (2.8)\n",
            "Requirement already satisfied: certifi>=2017.4.17 in /usr/local/lib/python3.6/dist-packages (from requests>=2.3.0->pandas_datareader) (2019.11.28)\n",
            "Requirement already satisfied: chardet<3.1.0,>=3.0.2 in /usr/local/lib/python3.6/dist-packages (from requests>=2.3.0->pandas_datareader) (3.0.4)\n",
            "Requirement already satisfied: urllib3<1.25,>=1.21.1 in /usr/local/lib/python3.6/dist-packages (from requests>=2.3.0->pandas_datareader) (1.24.3)\n",
            "Requirement already satisfied: six>=1.5 in /usr/local/lib/python3.6/dist-packages (from python-dateutil>=2.6.1->pandas>=0.19.2->pandas_datareader) (1.12.0)\n"
          ],
          "name": "stdout"
        }
      ]
    },
    {
      "cell_type": "code",
      "metadata": {
        "id": "Z9lazU2uHJZ3",
        "colab_type": "code",
        "outputId": "56ea2054-39db-4e91-ddf7-551399189139",
        "colab": {
          "base_uri": "https://localhost:8080/",
          "height": 72
        }
      },
      "source": [
        "! pip install plotly"
      ],
      "execution_count": 6,
      "outputs": [
        {
          "output_type": "stream",
          "text": [
            "Requirement already satisfied: plotly in /usr/local/lib/python3.6/dist-packages (4.4.1)\n",
            "Requirement already satisfied: six in /usr/local/lib/python3.6/dist-packages (from plotly) (1.12.0)\n",
            "Requirement already satisfied: retrying>=1.3.3 in /usr/local/lib/python3.6/dist-packages (from plotly) (1.3.3)\n"
          ],
          "name": "stdout"
        }
      ]
    },
    {
      "cell_type": "code",
      "metadata": {
        "id": "b4hMZM8n8zRK",
        "colab_type": "code",
        "colab": {}
      },
      "source": [
        "# importar as bibliotecas necessárias:\n",
        "import pandas as pd\n",
        "from pandas_datareader import data as web\n",
        "import plotly.graph_objects as go\n",
        " \n",
        "# criar um DataFrame vazio:\n",
        "df = pd.DataFrame()"
      ],
      "execution_count": 0,
      "outputs": []
    },
    {
      "cell_type": "code",
      "metadata": {
        "id": "ACU3jrlNk3Fb",
        "colab_type": "code",
        "outputId": "f2963c68-44e2-48cf-b75f-1135fc5e3215",
        "colab": {
          "base_uri": "https://localhost:8080/",
          "height": 228
        }
      },
      "source": [
        "# escolha da ação website:\n",
        "acao = 'TAEE11.SA'\n",
        " \n",
        "# importação de dados para o DataFrame:\n",
        "df = web.DataReader(acao, data_source='yahoo', start='01-01-2000')\n",
        " \n",
        "# ver as 5 primeiras entradas\n",
        "df.head()"
      ],
      "execution_count": 8,
      "outputs": [
        {
          "output_type": "execute_result",
          "data": {
            "text/html": [
              "<div>\n",
              "<style scoped>\n",
              "    .dataframe tbody tr th:only-of-type {\n",
              "        vertical-align: middle;\n",
              "    }\n",
              "\n",
              "    .dataframe tbody tr th {\n",
              "        vertical-align: top;\n",
              "    }\n",
              "\n",
              "    .dataframe thead th {\n",
              "        text-align: right;\n",
              "    }\n",
              "</style>\n",
              "<table border=\"1\" class=\"dataframe\">\n",
              "  <thead>\n",
              "    <tr style=\"text-align: right;\">\n",
              "      <th></th>\n",
              "      <th>High</th>\n",
              "      <th>Low</th>\n",
              "      <th>Open</th>\n",
              "      <th>Close</th>\n",
              "      <th>Volume</th>\n",
              "      <th>Adj Close</th>\n",
              "    </tr>\n",
              "    <tr>\n",
              "      <th>Date</th>\n",
              "      <th></th>\n",
              "      <th></th>\n",
              "      <th></th>\n",
              "      <th></th>\n",
              "      <th></th>\n",
              "      <th></th>\n",
              "    </tr>\n",
              "  </thead>\n",
              "  <tbody>\n",
              "    <tr>\n",
              "      <th>2019-03-07</th>\n",
              "      <td>25.000000</td>\n",
              "      <td>24.360001</td>\n",
              "      <td>24.719999</td>\n",
              "      <td>24.490000</td>\n",
              "      <td>1430100.0</td>\n",
              "      <td>22.865997</td>\n",
              "    </tr>\n",
              "    <tr>\n",
              "      <th>2019-03-11</th>\n",
              "      <td>25.790001</td>\n",
              "      <td>25.100000</td>\n",
              "      <td>25.100000</td>\n",
              "      <td>25.540001</td>\n",
              "      <td>1217800.0</td>\n",
              "      <td>23.846367</td>\n",
              "    </tr>\n",
              "    <tr>\n",
              "      <th>2019-03-12</th>\n",
              "      <td>26.059999</td>\n",
              "      <td>25.350000</td>\n",
              "      <td>25.580000</td>\n",
              "      <td>25.980000</td>\n",
              "      <td>1652800.0</td>\n",
              "      <td>24.257185</td>\n",
              "    </tr>\n",
              "    <tr>\n",
              "      <th>2019-03-13</th>\n",
              "      <td>26.280001</td>\n",
              "      <td>25.700001</td>\n",
              "      <td>25.879999</td>\n",
              "      <td>26.180000</td>\n",
              "      <td>1514800.0</td>\n",
              "      <td>24.443928</td>\n",
              "    </tr>\n",
              "    <tr>\n",
              "      <th>2019-03-14</th>\n",
              "      <td>26.360001</td>\n",
              "      <td>25.830000</td>\n",
              "      <td>26.230000</td>\n",
              "      <td>25.990000</td>\n",
              "      <td>1348100.0</td>\n",
              "      <td>24.266523</td>\n",
              "    </tr>\n",
              "  </tbody>\n",
              "</table>\n",
              "</div>"
            ],
            "text/plain": [
              "                 High        Low       Open      Close     Volume  Adj Close\n",
              "Date                                                                        \n",
              "2019-03-07  25.000000  24.360001  24.719999  24.490000  1430100.0  22.865997\n",
              "2019-03-11  25.790001  25.100000  25.100000  25.540001  1217800.0  23.846367\n",
              "2019-03-12  26.059999  25.350000  25.580000  25.980000  1652800.0  24.257185\n",
              "2019-03-13  26.280001  25.700001  25.879999  26.180000  1514800.0  24.443928\n",
              "2019-03-14  26.360001  25.830000  26.230000  25.990000  1348100.0  24.266523"
            ]
          },
          "metadata": {
            "tags": []
          },
          "execution_count": 8
        }
      ]
    },
    {
      "cell_type": "code",
      "metadata": {
        "id": "oLPHKovZ7089",
        "colab_type": "code",
        "outputId": "38579cac-2939-466e-baba-16f4c0d2d4eb",
        "colab": {
          "base_uri": "https://localhost:8080/",
          "height": 217
        }
      },
      "source": [
        "df.info()"
      ],
      "execution_count": 9,
      "outputs": [
        {
          "output_type": "stream",
          "text": [
            "<class 'pandas.core.frame.DataFrame'>\n",
            "DatetimeIndex: 216 entries, 2019-03-07 to 2020-02-18\n",
            "Data columns (total 6 columns):\n",
            "High         216 non-null float64\n",
            "Low          216 non-null float64\n",
            "Open         216 non-null float64\n",
            "Close        216 non-null float64\n",
            "Volume       216 non-null float64\n",
            "Adj Close    216 non-null float64\n",
            "dtypes: float64(6)\n",
            "memory usage: 11.8 KB\n"
          ],
          "name": "stdout"
        }
      ]
    },
    {
      "cell_type": "code",
      "metadata": {
        "id": "OFlm084HDlEm",
        "colab_type": "code",
        "outputId": "6ee4166e-0162-46d2-992f-6da7adf01104",
        "colab": {
          "base_uri": "https://localhost:8080/",
          "height": 35
        }
      },
      "source": [
        "df.shape"
      ],
      "execution_count": 10,
      "outputs": [
        {
          "output_type": "execute_result",
          "data": {
            "text/plain": [
              "(216, 6)"
            ]
          },
          "metadata": {
            "tags": []
          },
          "execution_count": 10
        }
      ]
    },
    {
      "cell_type": "code",
      "metadata": {
        "id": "dpank1Q8PbNj",
        "colab_type": "code",
        "outputId": "f0c36c21-7855-4edb-ed96-94ac219397b0",
        "colab": {
          "base_uri": "https://localhost:8080/",
          "height": 145
        }
      },
      "source": [
        "df.isnull().sum()"
      ],
      "execution_count": 11,
      "outputs": [
        {
          "output_type": "execute_result",
          "data": {
            "text/plain": [
              "High         0\n",
              "Low          0\n",
              "Open         0\n",
              "Close        0\n",
              "Volume       0\n",
              "Adj Close    0\n",
              "dtype: int64"
            ]
          },
          "metadata": {
            "tags": []
          },
          "execution_count": 11
        }
      ]
    },
    {
      "cell_type": "code",
      "metadata": {
        "id": "UmbV-1gPPjCz",
        "colab_type": "code",
        "outputId": "912b4a41-66ea-4363-8e14-8da9e07f0a33",
        "colab": {
          "base_uri": "https://localhost:8080/",
          "height": 145
        }
      },
      "source": [
        "df.count()"
      ],
      "execution_count": 12,
      "outputs": [
        {
          "output_type": "execute_result",
          "data": {
            "text/plain": [
              "High         216\n",
              "Low          216\n",
              "Open         216\n",
              "Close        216\n",
              "Volume       216\n",
              "Adj Close    216\n",
              "dtype: int64"
            ]
          },
          "metadata": {
            "tags": []
          },
          "execution_count": 12
        }
      ]
    },
    {
      "cell_type": "code",
      "metadata": {
        "id": "T0Oof9HsPrCT",
        "colab_type": "code",
        "outputId": "111fbff1-cd79-4bce-d58c-0b1906c67d77",
        "colab": {
          "base_uri": "https://localhost:8080/",
          "height": 288
        }
      },
      "source": [
        "df.describe()"
      ],
      "execution_count": 13,
      "outputs": [
        {
          "output_type": "execute_result",
          "data": {
            "text/html": [
              "<div>\n",
              "<style scoped>\n",
              "    .dataframe tbody tr th:only-of-type {\n",
              "        vertical-align: middle;\n",
              "    }\n",
              "\n",
              "    .dataframe tbody tr th {\n",
              "        vertical-align: top;\n",
              "    }\n",
              "\n",
              "    .dataframe thead th {\n",
              "        text-align: right;\n",
              "    }\n",
              "</style>\n",
              "<table border=\"1\" class=\"dataframe\">\n",
              "  <thead>\n",
              "    <tr style=\"text-align: right;\">\n",
              "      <th></th>\n",
              "      <th>High</th>\n",
              "      <th>Low</th>\n",
              "      <th>Open</th>\n",
              "      <th>Close</th>\n",
              "      <th>Volume</th>\n",
              "      <th>Adj Close</th>\n",
              "    </tr>\n",
              "  </thead>\n",
              "  <tbody>\n",
              "    <tr>\n",
              "      <th>count</th>\n",
              "      <td>216.000000</td>\n",
              "      <td>216.000000</td>\n",
              "      <td>216.000000</td>\n",
              "      <td>216.000000</td>\n",
              "      <td>2.160000e+02</td>\n",
              "      <td>216.000000</td>\n",
              "    </tr>\n",
              "    <tr>\n",
              "      <th>mean</th>\n",
              "      <td>28.308796</td>\n",
              "      <td>27.788657</td>\n",
              "      <td>28.092546</td>\n",
              "      <td>28.065741</td>\n",
              "      <td>1.268844e+06</td>\n",
              "      <td>27.226521</td>\n",
              "    </tr>\n",
              "    <tr>\n",
              "      <th>std</th>\n",
              "      <td>1.876276</td>\n",
              "      <td>1.887309</td>\n",
              "      <td>1.887440</td>\n",
              "      <td>1.881405</td>\n",
              "      <td>5.695653e+05</td>\n",
              "      <td>2.394759</td>\n",
              "    </tr>\n",
              "    <tr>\n",
              "      <th>min</th>\n",
              "      <td>24.629999</td>\n",
              "      <td>23.559999</td>\n",
              "      <td>23.799999</td>\n",
              "      <td>24.100000</td>\n",
              "      <td>3.670000e+05</td>\n",
              "      <td>22.501858</td>\n",
              "    </tr>\n",
              "    <tr>\n",
              "      <th>25%</th>\n",
              "      <td>27.192501</td>\n",
              "      <td>26.732500</td>\n",
              "      <td>26.905000</td>\n",
              "      <td>26.865001</td>\n",
              "      <td>9.573250e+05</td>\n",
              "      <td>25.601074</td>\n",
              "    </tr>\n",
              "    <tr>\n",
              "      <th>50%</th>\n",
              "      <td>28.300000</td>\n",
              "      <td>27.845000</td>\n",
              "      <td>28.105000</td>\n",
              "      <td>28.080000</td>\n",
              "      <td>1.188200e+06</td>\n",
              "      <td>27.274223</td>\n",
              "    </tr>\n",
              "    <tr>\n",
              "      <th>75%</th>\n",
              "      <td>29.090000</td>\n",
              "      <td>28.632499</td>\n",
              "      <td>28.884999</td>\n",
              "      <td>28.855000</td>\n",
              "      <td>1.465450e+06</td>\n",
              "      <td>28.231449</td>\n",
              "    </tr>\n",
              "    <tr>\n",
              "      <th>max</th>\n",
              "      <td>32.349998</td>\n",
              "      <td>31.870001</td>\n",
              "      <td>32.299999</td>\n",
              "      <td>32.160000</td>\n",
              "      <td>6.266100e+06</td>\n",
              "      <td>32.160000</td>\n",
              "    </tr>\n",
              "  </tbody>\n",
              "</table>\n",
              "</div>"
            ],
            "text/plain": [
              "             High         Low        Open       Close        Volume   Adj Close\n",
              "count  216.000000  216.000000  216.000000  216.000000  2.160000e+02  216.000000\n",
              "mean    28.308796   27.788657   28.092546   28.065741  1.268844e+06   27.226521\n",
              "std      1.876276    1.887309    1.887440    1.881405  5.695653e+05    2.394759\n",
              "min     24.629999   23.559999   23.799999   24.100000  3.670000e+05   22.501858\n",
              "25%     27.192501   26.732500   26.905000   26.865001  9.573250e+05   25.601074\n",
              "50%     28.300000   27.845000   28.105000   28.080000  1.188200e+06   27.274223\n",
              "75%     29.090000   28.632499   28.884999   28.855000  1.465450e+06   28.231449\n",
              "max     32.349998   31.870001   32.299999   32.160000  6.266100e+06   32.160000"
            ]
          },
          "metadata": {
            "tags": []
          },
          "execution_count": 13
        }
      ]
    },
    {
      "cell_type": "code",
      "metadata": {
        "id": "tMbPW27zPrMI",
        "colab_type": "code",
        "outputId": "30c82ab0-5848-4b2a-e370-202192878458",
        "colab": {
          "base_uri": "https://localhost:8080/",
          "height": 108
        }
      },
      "source": [
        "df[df['High'] == df['High'].min()]"
      ],
      "execution_count": 14,
      "outputs": [
        {
          "output_type": "execute_result",
          "data": {
            "text/html": [
              "<div>\n",
              "<style scoped>\n",
              "    .dataframe tbody tr th:only-of-type {\n",
              "        vertical-align: middle;\n",
              "    }\n",
              "\n",
              "    .dataframe tbody tr th {\n",
              "        vertical-align: top;\n",
              "    }\n",
              "\n",
              "    .dataframe thead th {\n",
              "        text-align: right;\n",
              "    }\n",
              "</style>\n",
              "<table border=\"1\" class=\"dataframe\">\n",
              "  <thead>\n",
              "    <tr style=\"text-align: right;\">\n",
              "      <th></th>\n",
              "      <th>High</th>\n",
              "      <th>Low</th>\n",
              "      <th>Open</th>\n",
              "      <th>Close</th>\n",
              "      <th>Volume</th>\n",
              "      <th>Adj Close</th>\n",
              "    </tr>\n",
              "    <tr>\n",
              "      <th>Date</th>\n",
              "      <th></th>\n",
              "      <th></th>\n",
              "      <th></th>\n",
              "      <th></th>\n",
              "      <th></th>\n",
              "      <th></th>\n",
              "    </tr>\n",
              "  </thead>\n",
              "  <tbody>\n",
              "    <tr>\n",
              "      <th>2019-03-27</th>\n",
              "      <td>24.629999</td>\n",
              "      <td>23.85</td>\n",
              "      <td>24.59</td>\n",
              "      <td>24.1</td>\n",
              "      <td>1240200.0</td>\n",
              "      <td>22.501858</td>\n",
              "    </tr>\n",
              "  </tbody>\n",
              "</table>\n",
              "</div>"
            ],
            "text/plain": [
              "                 High    Low   Open  Close     Volume  Adj Close\n",
              "Date                                                            \n",
              "2019-03-27  24.629999  23.85  24.59   24.1  1240200.0  22.501858"
            ]
          },
          "metadata": {
            "tags": []
          },
          "execution_count": 14
        }
      ]
    },
    {
      "cell_type": "code",
      "metadata": {
        "id": "q-UTjThzPrPh",
        "colab_type": "code",
        "outputId": "8cf3ab67-8de1-48ba-ef1b-35ddf950151b",
        "colab": {
          "base_uri": "https://localhost:8080/",
          "height": 108
        }
      },
      "source": [
        "df[df['High'] == df['High'].max()]"
      ],
      "execution_count": 15,
      "outputs": [
        {
          "output_type": "execute_result",
          "data": {
            "text/html": [
              "<div>\n",
              "<style scoped>\n",
              "    .dataframe tbody tr th:only-of-type {\n",
              "        vertical-align: middle;\n",
              "    }\n",
              "\n",
              "    .dataframe tbody tr th {\n",
              "        vertical-align: top;\n",
              "    }\n",
              "\n",
              "    .dataframe thead th {\n",
              "        text-align: right;\n",
              "    }\n",
              "</style>\n",
              "<table border=\"1\" class=\"dataframe\">\n",
              "  <thead>\n",
              "    <tr style=\"text-align: right;\">\n",
              "      <th></th>\n",
              "      <th>High</th>\n",
              "      <th>Low</th>\n",
              "      <th>Open</th>\n",
              "      <th>Close</th>\n",
              "      <th>Volume</th>\n",
              "      <th>Adj Close</th>\n",
              "    </tr>\n",
              "    <tr>\n",
              "      <th>Date</th>\n",
              "      <th></th>\n",
              "      <th></th>\n",
              "      <th></th>\n",
              "      <th></th>\n",
              "      <th></th>\n",
              "      <th></th>\n",
              "    </tr>\n",
              "  </thead>\n",
              "  <tbody>\n",
              "    <tr>\n",
              "      <th>2020-01-24</th>\n",
              "      <td>32.349998</td>\n",
              "      <td>31.870001</td>\n",
              "      <td>32.299999</td>\n",
              "      <td>31.950001</td>\n",
              "      <td>627200.0</td>\n",
              "      <td>31.950001</td>\n",
              "    </tr>\n",
              "  </tbody>\n",
              "</table>\n",
              "</div>"
            ],
            "text/plain": [
              "                 High        Low       Open      Close    Volume  Adj Close\n",
              "Date                                                                       \n",
              "2020-01-24  32.349998  31.870001  32.299999  31.950001  627200.0  31.950001"
            ]
          },
          "metadata": {
            "tags": []
          },
          "execution_count": 15
        }
      ]
    },
    {
      "cell_type": "code",
      "metadata": {
        "id": "cRv5IwR5k9qy",
        "colab_type": "code",
        "outputId": "d59fdfb2-03c8-41c9-c124-d0adff15545b",
        "colab": {
          "base_uri": "https://localhost:8080/",
          "height": 542
        }
      },
      "source": [
        "# plotar o gráfico de candlestick\n",
        "trace1 = {\n",
        "    'x': df.index,\n",
        "    'open': df.Open,\n",
        "    'close': df.Close,\n",
        "    'high': df.High,\n",
        "    'low': df.Low,\n",
        "    'type': 'candlestick',\n",
        "    'name': acao,\n",
        "    'showlegend': False\n",
        "}\n",
        " \n",
        "data = [trace1]\n",
        "layout = go.Layout()\n",
        " \n",
        "fig = go.Figure(data=data, layout=layout)\n",
        "fig.show()"
      ],
      "execution_count": 16,
      "outputs": [
        {
          "output_type": "display_data",
          "data": {
            "text/html": [
              "<html>\n",
              "<head><meta charset=\"utf-8\" /></head>\n",
              "<body>\n",
              "    <div>\n",
              "            <script src=\"https://cdnjs.cloudflare.com/ajax/libs/mathjax/2.7.5/MathJax.js?config=TeX-AMS-MML_SVG\"></script><script type=\"text/javascript\">if (window.MathJax) {MathJax.Hub.Config({SVG: {font: \"STIX-Web\"}});}</script>\n",
              "                <script type=\"text/javascript\">window.PlotlyConfig = {MathJaxConfig: 'local'};</script>\n",
              "        <script src=\"https://cdn.plot.ly/plotly-latest.min.js\"></script>    \n",
              "            <div id=\"a8a8a046-97e0-4e0c-95b4-a4bb1c017deb\" class=\"plotly-graph-div\" style=\"height:525px; width:100%;\"></div>\n",
              "            <script type=\"text/javascript\">\n",
              "                \n",
              "                    window.PLOTLYENV=window.PLOTLYENV || {};\n",
              "                    \n",
              "                if (document.getElementById(\"a8a8a046-97e0-4e0c-95b4-a4bb1c017deb\")) {\n",
              "                    Plotly.newPlot(\n",
              "                        'a8a8a046-97e0-4e0c-95b4-a4bb1c017deb',\n",
              "                        [{\"close\": [24.489999771118164, 25.540000915527344, 25.979999542236328, 26.18000030517578, 25.989999771118164, 26.229999542236328, 25.989999771118164, 25.65999984741211, 24.93000030517578, 24.459999084472656, 24.690000534057617, 24.75, 24.100000381469727, 24.719999313354492, 24.84000015258789, 24.8799991607666, 24.799999237060547, 24.670000076293945, 24.770000457763672, 25.770000457763672, 25.610000610351562, 25.739999771118164, 26.450000762939453, 26.200000762939453, 25.950000762939453, 26.06999969482422, 26.389999389648438, 26.34000015258789, 25.989999771118164, 25.3799991607666, 25.700000762939453, 25.100000381469727, 24.799999237060547, 24.239999771118164, 24.889999389648438, 25.049999237060547, 25.1299991607666, 25.239999771118164, 25.100000381469727, 25.190000534057617, 25.739999771118164, 25.600000381469727, 25.670000076293945, 26.530000686645508, 26.440000534057617, 26.549999237060547, 26.65999984741211, 27.209999084472656, 27.450000762939453, 27.399999618530273, 27.09000015258789, 26.850000381469727, 26.8700008392334, 26.579999923706055, 26.5, 26.700000762939453, 26.950000762939453, 26.829999923706055, 27.149999618530273, 26.799999237060547, 26.969999313354492, 27.100000381469727, 27.15999984741211, 27.399999618530273, 27.399999618530273, 27.670000076293945, 28.34000015258789, 28.690000534057617, 28.959999084472656, 28.479999542236328, 28.030000686645508, 27.81999969482422, 27.8799991607666, 28.149999618530273, 28.15999984741211, 28.420000076293945, 28.43000030517578, 28.3799991607666, 28.100000381469727, 27.8799991607666, 27.68000030517578, 27.969999313354492, 27.81999969482422, 28.309999465942383, 28.299999237060547, 28.010000228881836, 28.790000915527344, 28.690000534057617, 28.899999618530273, 28.25, 28.290000915527344, 28.780000686645508, 28.06999969482422, 27.600000381469727, 27.600000381469727, 27.3799991607666, 27.0, 27.530000686645508, 27.670000076293945, 27.239999771118164, 26.84000015258789, 27.329999923706055, 27.40999984741211, 27.739999771118164, 28.100000381469727, 27.979999542236328, 28.5, 28.399999618530273, 28.360000610351562, 28.100000381469727, 27.8799991607666, 28.68000030517578, 29.0, 28.65999984741211, 28.489999771118164, 28.84000015258789, 29.0, 29.350000381469727, 28.940000534057617, 28.809999465942383, 28.649999618530273, 28.520000457763672, 28.209999084472656, 28.299999237060547, 28.799999237060547, 28.649999618530273, 27.950000762939453, 28.190000534057617, 27.389999389648438, 27.450000762939453, 27.5, 27.420000076293945, 27.969999313354492, 28.06999969482422, 27.809999465942383, 27.770000457763672, 27.829999923706055, 28.059999465942383, 28.110000610351562, 28.260000228881836, 28.18000030517578, 28.059999465942383, 27.75, 28.0, 27.899999618530273, 28.350000381469727, 28.700000762939453, 28.670000076293945, 28.809999465942383, 28.56999969482422, 28.809999465942383, 28.510000228881836, 28.09000015258789, 28.110000610351562, 28.3799991607666, 28.15999984741211, 28.260000228881836, 28.25, 27.81999969482422, 28.0, 27.860000610351562, 27.8700008392334, 27.959999084472656, 28.1299991607666, 28.260000228881836, 28.56999969482422, 28.75, 28.700000762939453, 28.979999542236328, 28.940000534057617, 29.280000686645508, 29.520000457763672, 29.549999237060547, 29.899999618530273, 30.360000610351562, 30.399999618530273, 30.030000686645508, 30.420000076293945, 30.649999618530273, 30.309999465942383, 30.469999313354492, 30.920000076293945, 30.799999237060547, 31.059999465942383, 30.84000015258789, 30.799999237060547, 30.989999771118164, 30.6200008392334, 30.309999465942383, 29.93000030517578, 30.450000762939453, 30.600000381469727, 30.540000915527344, 30.760000228881836, 30.690000534057617, 31.31999969482422, 32.0, 31.93000030517578, 31.8799991607666, 32.15999984741211, 31.950000762939453, 31.649999618530273, 31.860000610351562, 31.799999237060547, 31.25, 31.1299991607666, 31.239999771118164, 31.219999313354492, 31.270000457763672, 30.889999389648438, 30.530000686645508, 29.829999923706055, 30.700000762939453, 31.389999389648438, 31.170000076293945, 31.239999771118164], \"high\": [25.0, 25.790000915527344, 26.059999465942383, 26.280000686645508, 26.360000610351562, 26.350000381469727, 26.280000686645508, 25.989999771118164, 25.450000762939453, 24.899999618530273, 24.760000228881836, 24.989999771118164, 24.6299991607666, 24.75, 25.5, 25.260000228881836, 25.190000534057617, 25.149999618530273, 25.030000686645508, 25.950000762939453, 25.989999771118164, 26.030000686645508, 26.469999313354492, 26.489999771118164, 26.0, 26.18000030517578, 26.399999618530273, 26.399999618530273, 26.3700008392334, 25.799999237060547, 25.889999389648438, 25.290000915527344, 25.049999237060547, 24.760000228881836, 24.940000534057617, 25.229999542236328, 25.459999084472656, 25.420000076293945, 25.5, 25.34000015258789, 25.889999389648438, 25.93000030517578, 25.889999389648438, 26.530000686645508, 26.75, 26.65999984741211, 26.729999542236328, 27.209999084472656, 27.489999771118164, 27.440000534057617, 27.450000762939453, 27.170000076293945, 27.31999969482422, 26.93000030517578, 26.75, 26.84000015258789, 27.059999465942383, 27.299999237060547, 27.200000762939453, 27.239999771118164, 27.040000915527344, 27.100000381469727, 27.489999771118164, 27.450000762939453, 27.540000915527344, 27.75, 28.56999969482422, 28.959999084472656, 28.959999084472656, 29.0, 28.670000076293945, 28.209999084472656, 27.979999542236328, 28.209999084472656, 28.40999984741211, 28.520000457763672, 28.68000030517578, 28.540000915527344, 28.489999771118164, 28.309999465942383, 27.959999084472656, 28.06999969482422, 27.979999542236328, 28.690000534057617, 28.540000915527344, 28.290000915527344, 28.989999771118164, 29.18000030517578, 29.25, 28.450000762939453, 28.440000534057617, 28.93000030517578, 28.700000762939453, 28.209999084472656, 27.90999984741211, 27.969999313354492, 27.510000228881836, 27.530000686645508, 27.68000030517578, 27.59000015258789, 27.469999313354492, 27.700000762939453, 27.540000915527344, 27.940000534057617, 28.100000381469727, 28.149999618530273, 28.5, 28.68000030517578, 28.600000381469727, 28.5, 28.149999618530273, 28.68000030517578, 29.18000030517578, 29.040000915527344, 28.790000915527344, 29.049999237060547, 29.040000915527344, 29.93000030517578, 29.59000015258789, 28.829999923706055, 29.09000015258789, 28.68000030517578, 28.5, 28.399999618530273, 28.889999389648438, 28.799999237060547, 28.559999465942383, 28.3700008392334, 28.290000915527344, 27.6299991607666, 27.809999465942383, 27.540000915527344, 28.0, 28.18000030517578, 28.170000076293945, 27.850000381469727, 27.889999389648438, 28.059999465942383, 28.34000015258789, 28.479999542236328, 28.43000030517578, 28.260000228881836, 28.149999618530273, 28.040000915527344, 28.079999923706055, 28.530000686645508, 28.760000228881836, 29.040000915527344, 29.059999465942383, 29.09000015258789, 28.93000030517578, 28.860000610351562, 28.350000381469727, 28.25, 28.520000457763672, 28.5, 28.520000457763672, 28.520000457763672, 27.959999084472656, 28.09000015258789, 28.170000076293945, 27.899999618530273, 28.09000015258789, 28.170000076293945, 28.420000076293945, 28.969999313354492, 28.84000015258789, 28.790000915527344, 29.139999389648438, 29.1200008392334, 29.329999923706055, 29.520000457763672, 29.770000457763672, 30.059999465942383, 30.360000610351562, 30.65999984741211, 30.440000534057617, 30.520000457763672, 30.68000030517578, 30.65999984741211, 30.600000381469727, 31.100000381469727, 31.1299991607666, 31.219999313354492, 31.360000610351562, 30.93000030517578, 31.209999084472656, 30.989999771118164, 30.780000686645508, 30.360000610351562, 30.6200008392334, 30.700000762939453, 30.739999771118164, 30.829999923706055, 30.979999542236328, 31.31999969482422, 32.09000015258789, 32.189998626708984, 32.15999984741211, 32.220001220703125, 32.349998474121094, 31.790000915527344, 31.8799991607666, 32.08000183105469, 31.68000030517578, 31.3799991607666, 31.6200008392334, 31.75, 31.579999923706055, 31.649999618530273, 30.90999984741211, 30.65999984741211, 30.90999984741211, 31.450000762939453, 31.420000076293945, 31.309999465942383], \"low\": [24.360000610351562, 25.100000381469727, 25.350000381469727, 25.700000762939453, 25.829999923706055, 25.920000076293945, 25.90999984741211, 25.360000610351562, 24.729999542236328, 24.3700008392334, 24.399999618530273, 24.549999237060547, 23.850000381469727, 23.559999465942383, 24.719999313354492, 24.399999618530273, 24.719999313354492, 24.670000076293945, 24.600000381469727, 25.440000534057617, 25.549999237060547, 25.610000610351562, 26.0, 26.200000762939453, 25.56999969482422, 25.68000030517578, 25.969999313354492, 26.030000686645508, 25.809999465942383, 25.25, 25.389999389648438, 24.75, 24.59000015258789, 24.229999542236328, 23.989999771118164, 24.84000015258789, 25.040000915527344, 24.790000915527344, 25.040000915527344, 25.030000686645508, 25.25, 25.600000381469727, 25.520000457763672, 25.75, 26.059999465942383, 26.309999465942383, 26.3799991607666, 26.670000076293945, 27.139999389648438, 27.1200008392334, 27.020000457763672, 26.850000381469727, 26.68000030517578, 26.1200008392334, 26.200000762939453, 26.40999984741211, 26.329999923706055, 26.829999923706055, 26.860000610351562, 26.75, 26.780000686645508, 26.59000015258789, 26.989999771118164, 27.139999389648438, 27.200000762939453, 27.1200008392334, 27.93000030517578, 28.440000534057617, 28.420000076293945, 28.299999237060547, 27.860000610351562, 27.760000228881836, 27.700000762939453, 27.899999618530273, 27.860000610351562, 28.0, 28.18000030517578, 28.260000228881836, 27.850000381469727, 27.829999923706055, 27.350000381469727, 27.530000686645508, 27.459999084472656, 27.81999969482422, 28.020000457763672, 27.760000228881836, 28.15999984741211, 28.309999465942383, 28.700000762939453, 27.899999618530273, 27.899999618530273, 28.139999389648438, 27.719999313354492, 27.209999084472656, 27.329999923706055, 27.0, 26.790000915527344, 26.829999923706055, 27.25, 26.940000534057617, 26.780000686645508, 26.889999389648438, 26.84000015258789, 27.280000686645508, 27.649999618530273, 27.770000457763672, 27.93000030517578, 28.31999969482422, 28.0, 28.040000915527344, 27.709999084472656, 27.81999969482422, 28.690000534057617, 28.520000457763672, 28.239999771118164, 28.360000610351562, 28.729999542236328, 28.90999984741211, 28.639999389648438, 28.25, 28.440000534057617, 28.200000762939453, 28.209999084472656, 27.940000534057617, 28.239999771118164, 28.31999969482422, 27.850000381469727, 27.90999984741211, 27.290000915527344, 27.350000381469727, 27.25, 27.25, 27.3700008392334, 27.81999969482422, 27.719999313354492, 27.329999923706055, 27.510000228881836, 27.770000457763672, 27.8700008392334, 28.06999969482422, 28.030000686645508, 27.809999465942383, 27.6299991607666, 27.760000228881836, 27.84000015258789, 27.889999389648438, 28.3799991607666, 28.6299991607666, 28.65999984741211, 28.5, 28.709999084472656, 28.5, 28.010000228881836, 28.010000228881836, 28.1299991607666, 27.940000534057617, 28.209999084472656, 28.209999084472656, 27.709999084472656, 27.860000610351562, 27.809999465942383, 27.530000686645508, 27.639999389648438, 27.940000534057617, 28.1200008392334, 28.309999465942383, 28.5, 28.540000915527344, 28.170000076293945, 28.8700008392334, 28.959999084472656, 29.1200008392334, 29.329999923706055, 29.610000610351562, 29.90999984741211, 30.229999542236328, 29.90999984741211, 30.010000228881836, 30.239999771118164, 30.209999084472656, 30.31999969482422, 30.649999618530273, 30.729999542236328, 30.799999237060547, 30.780000686645508, 30.520000457763672, 30.649999618530273, 30.350000381469727, 29.920000076293945, 29.700000762939453, 30.219999313354492, 30.389999389648438, 30.360000610351562, 30.520000457763672, 30.579999923706055, 30.8799991607666, 31.389999389648438, 31.770000457763672, 31.670000076293945, 31.649999618530273, 31.8700008392334, 31.25, 31.329999923706055, 31.700000762939453, 30.850000381469727, 30.850000381469727, 31.059999465942383, 31.190000534057617, 31.219999313354492, 30.8700008392334, 30.350000381469727, 29.809999465942383, 30.260000228881836, 30.549999237060547, 31.0, 30.899999618530273], \"name\": \"TAEE11.SA\", \"open\": [24.719999313354492, 25.100000381469727, 25.579999923706055, 25.8799991607666, 26.229999542236328, 26.25, 26.200000762939453, 25.920000076293945, 25.450000762939453, 24.799999237060547, 24.459999084472656, 24.799999237060547, 24.59000015258789, 23.799999237060547, 24.850000381469727, 24.889999389648438, 25.06999969482422, 25.049999237060547, 25.0, 25.5, 25.850000381469727, 25.75, 26.31999969482422, 26.479999542236328, 25.989999771118164, 25.899999618530273, 26.06999969482422, 26.18000030517578, 26.3700008392334, 25.75, 25.850000381469727, 25.15999984741211, 25.0, 24.700000762939453, 23.989999771118164, 25.059999465942383, 25.100000381469727, 24.989999771118164, 25.350000381469727, 25.15999984741211, 25.25, 25.709999084472656, 25.690000534057617, 25.899999618530273, 26.530000686645508, 26.450000762939453, 26.549999237060547, 26.75, 27.31999969482422, 27.3799991607666, 27.450000762939453, 27.170000076293945, 26.989999771118164, 26.93000030517578, 26.59000015258789, 26.770000457763672, 26.729999542236328, 27.1200008392334, 26.860000610351562, 27.170000076293945, 26.90999984741211, 26.799999237060547, 27.139999389648438, 27.43000030517578, 27.489999771118164, 27.329999923706055, 28.040000915527344, 28.510000228881836, 28.68000030517578, 29.0, 28.59000015258789, 28.110000610351562, 27.889999389648438, 28.0, 28.270000457763672, 28.18000030517578, 28.5, 28.260000228881836, 28.489999771118164, 28.100000381469727, 27.899999618530273, 27.700000762939453, 27.969999313354492, 27.8799991607666, 28.31999969482422, 28.290000915527344, 28.3799991607666, 28.790000915527344, 28.809999465942383, 28.299999237060547, 28.110000610351562, 28.299999237060547, 28.59000015258789, 28.170000076293945, 27.709999084472656, 27.889999389648438, 27.479999542236328, 27.25, 27.549999237060547, 27.59000015258789, 27.260000228881836, 26.889999389648438, 27.309999465942383, 27.459999084472656, 27.8799991607666, 28.100000381469727, 28.110000610351562, 28.540000915527344, 28.600000381469727, 28.450000762939453, 28.100000381469727, 28.010000228881836, 28.770000457763672, 29.0, 28.770000457763672, 28.489999771118164, 28.84000015258789, 29.0, 29.469999313354492, 28.799999237060547, 28.90999984741211, 28.649999618530273, 28.459999084472656, 28.34000015258789, 28.34000015258789, 28.799999237060547, 28.559999465942383, 28.030000686645508, 28.290000915527344, 27.40999984741211, 27.65999984741211, 27.530000686645508, 27.459999084472656, 28.040000915527344, 28.170000076293945, 27.809999465942383, 27.809999465942383, 27.850000381469727, 28.100000381469727, 28.299999237060547, 28.329999923706055, 28.239999771118164, 28.149999618530273, 27.989999771118164, 28.059999465942383, 28.059999465942383, 28.59000015258789, 28.950000762939453, 28.75, 28.899999618530273, 28.8799991607666, 28.799999237060547, 28.100000381469727, 28.139999389648438, 28.5, 28.450000762939453, 28.270000457763672, 28.3700008392334, 27.75, 27.979999542236328, 28.100000381469727, 27.889999389648438, 27.989999771118164, 28.030000686645508, 28.1200008392334, 28.309999465942383, 28.520000457763672, 28.739999771118164, 28.84000015258789, 28.899999618530273, 29.100000381469727, 29.200000762939453, 29.450000762939453, 29.649999618530273, 30.0, 30.3799991607666, 30.299999237060547, 30.270000457763672, 30.450000762939453, 30.65999984741211, 30.440000534057617, 30.68000030517578, 31.100000381469727, 31.0, 31.149999618530273, 30.84000015258789, 30.989999771118164, 30.989999771118164, 30.75, 30.149999618530273, 30.389999389648438, 30.40999984741211, 30.709999084472656, 30.81999969482422, 30.670000076293945, 30.899999618530273, 31.450000762939453, 32.04999923706055, 31.979999542236328, 31.75, 32.29999923706055, 31.700000762939453, 31.549999237060547, 31.979999542236328, 31.450000762939453, 31.309999465942383, 31.100000381469727, 31.5, 31.299999237060547, 31.459999084472656, 30.860000610351562, 30.469999313354492, 30.510000228881836, 30.940000534057617, 31.329999923706055, 31.309999465942383], \"showlegend\": false, \"type\": \"candlestick\", \"x\": [\"2019-03-07T00:00:00\", \"2019-03-11T00:00:00\", \"2019-03-12T00:00:00\", \"2019-03-13T00:00:00\", \"2019-03-14T00:00:00\", \"2019-03-18T00:00:00\", \"2019-03-19T00:00:00\", \"2019-03-20T00:00:00\", \"2019-03-21T00:00:00\", \"2019-03-22T00:00:00\", \"2019-03-25T00:00:00\", \"2019-03-26T00:00:00\", \"2019-03-27T00:00:00\", \"2019-03-28T00:00:00\", \"2019-03-29T00:00:00\", \"2019-04-01T00:00:00\", \"2019-04-02T00:00:00\", \"2019-04-03T00:00:00\", \"2019-04-04T00:00:00\", \"2019-04-08T00:00:00\", \"2019-04-09T00:00:00\", \"2019-04-10T00:00:00\", \"2019-05-02T00:00:00\", \"2019-05-03T00:00:00\", \"2019-05-06T00:00:00\", \"2019-05-07T00:00:00\", \"2019-05-08T00:00:00\", \"2019-05-09T00:00:00\", \"2019-05-10T00:00:00\", \"2019-05-13T00:00:00\", \"2019-05-14T00:00:00\", \"2019-05-15T00:00:00\", \"2019-05-16T00:00:00\", \"2019-05-17T00:00:00\", \"2019-05-20T00:00:00\", \"2019-05-21T00:00:00\", \"2019-05-22T00:00:00\", \"2019-05-23T00:00:00\", \"2019-05-24T00:00:00\", \"2019-05-27T00:00:00\", \"2019-05-28T00:00:00\", \"2019-05-29T00:00:00\", \"2019-05-30T00:00:00\", \"2019-05-31T00:00:00\", \"2019-06-03T00:00:00\", \"2019-06-04T00:00:00\", \"2019-06-05T00:00:00\", \"2019-06-06T00:00:00\", \"2019-06-07T00:00:00\", \"2019-06-10T00:00:00\", \"2019-06-11T00:00:00\", \"2019-06-12T00:00:00\", \"2019-06-13T00:00:00\", \"2019-06-14T00:00:00\", \"2019-06-17T00:00:00\", \"2019-06-18T00:00:00\", \"2019-06-19T00:00:00\", \"2019-06-21T00:00:00\", \"2019-06-24T00:00:00\", \"2019-06-25T00:00:00\", \"2019-06-26T00:00:00\", \"2019-06-27T00:00:00\", \"2019-06-28T00:00:00\", \"2019-07-01T00:00:00\", \"2019-07-02T00:00:00\", \"2019-07-03T00:00:00\", \"2019-07-08T00:00:00\", \"2019-07-10T00:00:00\", \"2019-07-11T00:00:00\", \"2019-07-12T00:00:00\", \"2019-07-15T00:00:00\", \"2019-07-16T00:00:00\", \"2019-07-17T00:00:00\", \"2019-07-18T00:00:00\", \"2019-07-19T00:00:00\", \"2019-07-22T00:00:00\", \"2019-07-23T00:00:00\", \"2019-07-24T00:00:00\", \"2019-07-25T00:00:00\", \"2019-07-26T00:00:00\", \"2019-07-29T00:00:00\", \"2019-07-30T00:00:00\", \"2019-07-31T00:00:00\", \"2019-08-01T00:00:00\", \"2019-08-02T00:00:00\", \"2019-08-05T00:00:00\", \"2019-08-06T00:00:00\", \"2019-08-07T00:00:00\", \"2019-08-08T00:00:00\", \"2019-08-09T00:00:00\", \"2019-08-12T00:00:00\", \"2019-08-13T00:00:00\", \"2019-08-14T00:00:00\", \"2019-08-15T00:00:00\", \"2019-08-16T00:00:00\", \"2019-08-19T00:00:00\", \"2019-08-20T00:00:00\", \"2019-08-21T00:00:00\", \"2019-08-22T00:00:00\", \"2019-08-23T00:00:00\", \"2019-08-26T00:00:00\", \"2019-08-27T00:00:00\", \"2019-08-28T00:00:00\", \"2019-08-29T00:00:00\", \"2019-08-30T00:00:00\", \"2019-09-02T00:00:00\", \"2019-09-04T00:00:00\", \"2019-09-05T00:00:00\", \"2019-09-06T00:00:00\", \"2019-09-09T00:00:00\", \"2019-09-10T00:00:00\", \"2019-09-11T00:00:00\", \"2019-09-12T00:00:00\", \"2019-09-13T00:00:00\", \"2019-09-16T00:00:00\", \"2019-09-17T00:00:00\", \"2019-09-18T00:00:00\", \"2019-09-19T00:00:00\", \"2019-09-20T00:00:00\", \"2019-09-23T00:00:00\", \"2019-09-24T00:00:00\", \"2019-09-25T00:00:00\", \"2019-09-26T00:00:00\", \"2019-09-27T00:00:00\", \"2019-09-30T00:00:00\", \"2019-10-01T00:00:00\", \"2019-10-02T00:00:00\", \"2019-10-03T00:00:00\", \"2019-10-07T00:00:00\", \"2019-10-08T00:00:00\", \"2019-10-09T00:00:00\", \"2019-10-10T00:00:00\", \"2019-10-11T00:00:00\", \"2019-10-14T00:00:00\", \"2019-10-15T00:00:00\", \"2019-10-16T00:00:00\", \"2019-10-17T00:00:00\", \"2019-10-18T00:00:00\", \"2019-10-21T00:00:00\", \"2019-10-22T00:00:00\", \"2019-10-23T00:00:00\", \"2019-10-24T00:00:00\", \"2019-10-25T00:00:00\", \"2019-10-28T00:00:00\", \"2019-10-29T00:00:00\", \"2019-10-30T00:00:00\", \"2019-10-31T00:00:00\", \"2019-11-01T00:00:00\", \"2019-11-04T00:00:00\", \"2019-11-06T00:00:00\", \"2019-11-07T00:00:00\", \"2019-11-08T00:00:00\", \"2019-11-11T00:00:00\", \"2019-11-12T00:00:00\", \"2019-11-13T00:00:00\", \"2019-11-14T00:00:00\", \"2019-11-18T00:00:00\", \"2019-11-19T00:00:00\", \"2019-11-21T00:00:00\", \"2019-11-22T00:00:00\", \"2019-11-25T00:00:00\", \"2019-11-26T00:00:00\", \"2019-11-27T00:00:00\", \"2019-11-28T00:00:00\", \"2019-11-29T00:00:00\", \"2019-12-02T00:00:00\", \"2019-12-03T00:00:00\", \"2019-12-04T00:00:00\", \"2019-12-05T00:00:00\", \"2019-12-06T00:00:00\", \"2019-12-09T00:00:00\", \"2019-12-10T00:00:00\", \"2019-12-11T00:00:00\", \"2019-12-12T00:00:00\", \"2019-12-13T00:00:00\", \"2019-12-16T00:00:00\", \"2019-12-17T00:00:00\", \"2019-12-18T00:00:00\", \"2019-12-19T00:00:00\", \"2019-12-20T00:00:00\", \"2019-12-23T00:00:00\", \"2019-12-26T00:00:00\", \"2019-12-27T00:00:00\", \"2019-12-30T00:00:00\", \"2020-01-02T00:00:00\", \"2020-01-03T00:00:00\", \"2020-01-06T00:00:00\", \"2020-01-07T00:00:00\", \"2020-01-08T00:00:00\", \"2020-01-09T00:00:00\", \"2020-01-10T00:00:00\", \"2020-01-13T00:00:00\", \"2020-01-14T00:00:00\", \"2020-01-15T00:00:00\", \"2020-01-16T00:00:00\", \"2020-01-17T00:00:00\", \"2020-01-20T00:00:00\", \"2020-01-21T00:00:00\", \"2020-01-22T00:00:00\", \"2020-01-23T00:00:00\", \"2020-01-24T00:00:00\", \"2020-01-27T00:00:00\", \"2020-01-28T00:00:00\", \"2020-01-29T00:00:00\", \"2020-01-30T00:00:00\", \"2020-01-31T00:00:00\", \"2020-02-03T00:00:00\", \"2020-02-04T00:00:00\", \"2020-02-05T00:00:00\", \"2020-02-06T00:00:00\", \"2020-02-07T00:00:00\", \"2020-02-10T00:00:00\", \"2020-02-11T00:00:00\", \"2020-02-12T00:00:00\", \"2020-02-13T00:00:00\", \"2020-02-18T00:00:00\"]}],\n",
              "                        {\"template\": {\"data\": {\"bar\": [{\"error_x\": {\"color\": \"#2a3f5f\"}, \"error_y\": {\"color\": \"#2a3f5f\"}, \"marker\": {\"line\": {\"color\": \"#E5ECF6\", \"width\": 0.5}}, \"type\": \"bar\"}], \"barpolar\": [{\"marker\": {\"line\": {\"color\": \"#E5ECF6\", \"width\": 0.5}}, \"type\": \"barpolar\"}], \"carpet\": [{\"aaxis\": {\"endlinecolor\": \"#2a3f5f\", \"gridcolor\": \"white\", \"linecolor\": \"white\", \"minorgridcolor\": \"white\", \"startlinecolor\": \"#2a3f5f\"}, \"baxis\": {\"endlinecolor\": \"#2a3f5f\", \"gridcolor\": \"white\", \"linecolor\": \"white\", \"minorgridcolor\": \"white\", \"startlinecolor\": \"#2a3f5f\"}, \"type\": \"carpet\"}], \"choropleth\": [{\"colorbar\": {\"outlinewidth\": 0, \"ticks\": \"\"}, \"type\": \"choropleth\"}], \"contour\": [{\"colorbar\": {\"outlinewidth\": 0, \"ticks\": \"\"}, \"colorscale\": [[0.0, \"#0d0887\"], [0.1111111111111111, \"#46039f\"], [0.2222222222222222, \"#7201a8\"], [0.3333333333333333, \"#9c179e\"], [0.4444444444444444, \"#bd3786\"], [0.5555555555555556, \"#d8576b\"], [0.6666666666666666, \"#ed7953\"], [0.7777777777777778, \"#fb9f3a\"], [0.8888888888888888, \"#fdca26\"], [1.0, \"#f0f921\"]], \"type\": \"contour\"}], \"contourcarpet\": [{\"colorbar\": {\"outlinewidth\": 0, \"ticks\": \"\"}, \"type\": \"contourcarpet\"}], \"heatmap\": [{\"colorbar\": {\"outlinewidth\": 0, \"ticks\": \"\"}, \"colorscale\": [[0.0, \"#0d0887\"], [0.1111111111111111, \"#46039f\"], [0.2222222222222222, \"#7201a8\"], [0.3333333333333333, \"#9c179e\"], [0.4444444444444444, \"#bd3786\"], [0.5555555555555556, \"#d8576b\"], [0.6666666666666666, \"#ed7953\"], [0.7777777777777778, \"#fb9f3a\"], [0.8888888888888888, \"#fdca26\"], [1.0, \"#f0f921\"]], \"type\": \"heatmap\"}], \"heatmapgl\": [{\"colorbar\": {\"outlinewidth\": 0, \"ticks\": \"\"}, \"colorscale\": [[0.0, \"#0d0887\"], [0.1111111111111111, \"#46039f\"], [0.2222222222222222, \"#7201a8\"], [0.3333333333333333, \"#9c179e\"], [0.4444444444444444, \"#bd3786\"], [0.5555555555555556, \"#d8576b\"], [0.6666666666666666, \"#ed7953\"], [0.7777777777777778, \"#fb9f3a\"], [0.8888888888888888, \"#fdca26\"], [1.0, \"#f0f921\"]], \"type\": \"heatmapgl\"}], \"histogram\": [{\"marker\": {\"colorbar\": {\"outlinewidth\": 0, \"ticks\": \"\"}}, \"type\": \"histogram\"}], \"histogram2d\": [{\"colorbar\": {\"outlinewidth\": 0, \"ticks\": \"\"}, \"colorscale\": [[0.0, \"#0d0887\"], [0.1111111111111111, \"#46039f\"], [0.2222222222222222, \"#7201a8\"], [0.3333333333333333, \"#9c179e\"], [0.4444444444444444, \"#bd3786\"], [0.5555555555555556, \"#d8576b\"], [0.6666666666666666, \"#ed7953\"], [0.7777777777777778, \"#fb9f3a\"], [0.8888888888888888, \"#fdca26\"], [1.0, \"#f0f921\"]], \"type\": \"histogram2d\"}], \"histogram2dcontour\": [{\"colorbar\": {\"outlinewidth\": 0, \"ticks\": \"\"}, \"colorscale\": [[0.0, \"#0d0887\"], [0.1111111111111111, \"#46039f\"], [0.2222222222222222, \"#7201a8\"], [0.3333333333333333, \"#9c179e\"], [0.4444444444444444, \"#bd3786\"], [0.5555555555555556, \"#d8576b\"], [0.6666666666666666, \"#ed7953\"], [0.7777777777777778, \"#fb9f3a\"], [0.8888888888888888, \"#fdca26\"], [1.0, \"#f0f921\"]], \"type\": \"histogram2dcontour\"}], \"mesh3d\": [{\"colorbar\": {\"outlinewidth\": 0, \"ticks\": \"\"}, \"type\": \"mesh3d\"}], \"parcoords\": [{\"line\": {\"colorbar\": {\"outlinewidth\": 0, \"ticks\": \"\"}}, \"type\": \"parcoords\"}], \"pie\": [{\"automargin\": true, \"type\": \"pie\"}], \"scatter\": [{\"marker\": {\"colorbar\": {\"outlinewidth\": 0, \"ticks\": \"\"}}, \"type\": \"scatter\"}], \"scatter3d\": [{\"line\": {\"colorbar\": {\"outlinewidth\": 0, \"ticks\": \"\"}}, \"marker\": {\"colorbar\": {\"outlinewidth\": 0, \"ticks\": \"\"}}, \"type\": \"scatter3d\"}], \"scattercarpet\": [{\"marker\": {\"colorbar\": {\"outlinewidth\": 0, \"ticks\": \"\"}}, \"type\": \"scattercarpet\"}], \"scattergeo\": [{\"marker\": {\"colorbar\": {\"outlinewidth\": 0, \"ticks\": \"\"}}, \"type\": \"scattergeo\"}], \"scattergl\": [{\"marker\": {\"colorbar\": {\"outlinewidth\": 0, \"ticks\": \"\"}}, \"type\": \"scattergl\"}], \"scattermapbox\": [{\"marker\": {\"colorbar\": {\"outlinewidth\": 0, \"ticks\": \"\"}}, \"type\": \"scattermapbox\"}], \"scatterpolar\": [{\"marker\": {\"colorbar\": {\"outlinewidth\": 0, \"ticks\": \"\"}}, \"type\": \"scatterpolar\"}], \"scatterpolargl\": [{\"marker\": {\"colorbar\": {\"outlinewidth\": 0, \"ticks\": \"\"}}, \"type\": \"scatterpolargl\"}], \"scatterternary\": [{\"marker\": {\"colorbar\": {\"outlinewidth\": 0, \"ticks\": \"\"}}, \"type\": \"scatterternary\"}], \"surface\": [{\"colorbar\": {\"outlinewidth\": 0, \"ticks\": \"\"}, \"colorscale\": [[0.0, \"#0d0887\"], [0.1111111111111111, \"#46039f\"], [0.2222222222222222, \"#7201a8\"], [0.3333333333333333, \"#9c179e\"], [0.4444444444444444, \"#bd3786\"], [0.5555555555555556, \"#d8576b\"], [0.6666666666666666, \"#ed7953\"], [0.7777777777777778, \"#fb9f3a\"], [0.8888888888888888, \"#fdca26\"], [1.0, \"#f0f921\"]], \"type\": \"surface\"}], \"table\": [{\"cells\": {\"fill\": {\"color\": \"#EBF0F8\"}, \"line\": {\"color\": \"white\"}}, \"header\": {\"fill\": {\"color\": \"#C8D4E3\"}, \"line\": {\"color\": \"white\"}}, \"type\": \"table\"}]}, \"layout\": {\"annotationdefaults\": {\"arrowcolor\": \"#2a3f5f\", \"arrowhead\": 0, \"arrowwidth\": 1}, \"coloraxis\": {\"colorbar\": {\"outlinewidth\": 0, \"ticks\": \"\"}}, \"colorscale\": {\"diverging\": [[0, \"#8e0152\"], [0.1, \"#c51b7d\"], [0.2, \"#de77ae\"], [0.3, \"#f1b6da\"], [0.4, \"#fde0ef\"], [0.5, \"#f7f7f7\"], [0.6, \"#e6f5d0\"], [0.7, \"#b8e186\"], [0.8, \"#7fbc41\"], [0.9, \"#4d9221\"], [1, \"#276419\"]], \"sequential\": [[0.0, \"#0d0887\"], [0.1111111111111111, \"#46039f\"], [0.2222222222222222, \"#7201a8\"], [0.3333333333333333, \"#9c179e\"], [0.4444444444444444, \"#bd3786\"], [0.5555555555555556, \"#d8576b\"], [0.6666666666666666, \"#ed7953\"], [0.7777777777777778, \"#fb9f3a\"], [0.8888888888888888, \"#fdca26\"], [1.0, \"#f0f921\"]], \"sequentialminus\": [[0.0, \"#0d0887\"], [0.1111111111111111, \"#46039f\"], [0.2222222222222222, \"#7201a8\"], [0.3333333333333333, \"#9c179e\"], [0.4444444444444444, \"#bd3786\"], [0.5555555555555556, \"#d8576b\"], [0.6666666666666666, \"#ed7953\"], [0.7777777777777778, \"#fb9f3a\"], [0.8888888888888888, \"#fdca26\"], [1.0, \"#f0f921\"]]}, \"colorway\": [\"#636efa\", \"#EF553B\", \"#00cc96\", \"#ab63fa\", \"#FFA15A\", \"#19d3f3\", \"#FF6692\", \"#B6E880\", \"#FF97FF\", \"#FECB52\"], \"font\": {\"color\": \"#2a3f5f\"}, \"geo\": {\"bgcolor\": \"white\", \"lakecolor\": \"white\", \"landcolor\": \"#E5ECF6\", \"showlakes\": true, \"showland\": true, \"subunitcolor\": \"white\"}, \"hoverlabel\": {\"align\": \"left\"}, \"hovermode\": \"closest\", \"mapbox\": {\"style\": \"light\"}, \"paper_bgcolor\": \"white\", \"plot_bgcolor\": \"#E5ECF6\", \"polar\": {\"angularaxis\": {\"gridcolor\": \"white\", \"linecolor\": \"white\", \"ticks\": \"\"}, \"bgcolor\": \"#E5ECF6\", \"radialaxis\": {\"gridcolor\": \"white\", \"linecolor\": \"white\", \"ticks\": \"\"}}, \"scene\": {\"xaxis\": {\"backgroundcolor\": \"#E5ECF6\", \"gridcolor\": \"white\", \"gridwidth\": 2, \"linecolor\": \"white\", \"showbackground\": true, \"ticks\": \"\", \"zerolinecolor\": \"white\"}, \"yaxis\": {\"backgroundcolor\": \"#E5ECF6\", \"gridcolor\": \"white\", \"gridwidth\": 2, \"linecolor\": \"white\", \"showbackground\": true, \"ticks\": \"\", \"zerolinecolor\": \"white\"}, \"zaxis\": {\"backgroundcolor\": \"#E5ECF6\", \"gridcolor\": \"white\", \"gridwidth\": 2, \"linecolor\": \"white\", \"showbackground\": true, \"ticks\": \"\", \"zerolinecolor\": \"white\"}}, \"shapedefaults\": {\"line\": {\"color\": \"#2a3f5f\"}}, \"ternary\": {\"aaxis\": {\"gridcolor\": \"white\", \"linecolor\": \"white\", \"ticks\": \"\"}, \"baxis\": {\"gridcolor\": \"white\", \"linecolor\": \"white\", \"ticks\": \"\"}, \"bgcolor\": \"#E5ECF6\", \"caxis\": {\"gridcolor\": \"white\", \"linecolor\": \"white\", \"ticks\": \"\"}}, \"title\": {\"x\": 0.05}, \"xaxis\": {\"automargin\": true, \"gridcolor\": \"white\", \"linecolor\": \"white\", \"ticks\": \"\", \"title\": {\"standoff\": 15}, \"zerolinecolor\": \"white\", \"zerolinewidth\": 2}, \"yaxis\": {\"automargin\": true, \"gridcolor\": \"white\", \"linecolor\": \"white\", \"ticks\": \"\", \"title\": {\"standoff\": 15}, \"zerolinecolor\": \"white\", \"zerolinewidth\": 2}}}},\n",
              "                        {\"responsive\": true}\n",
              "                    ).then(function(){\n",
              "                            \n",
              "var gd = document.getElementById('a8a8a046-97e0-4e0c-95b4-a4bb1c017deb');\n",
              "var x = new MutationObserver(function (mutations, observer) {{\n",
              "        var display = window.getComputedStyle(gd).display;\n",
              "        if (!display || display === 'none') {{\n",
              "            console.log([gd, 'removed!']);\n",
              "            Plotly.purge(gd);\n",
              "            observer.disconnect();\n",
              "        }}\n",
              "}});\n",
              "\n",
              "// Listen for the removal of the full notebook cells\n",
              "var notebookContainer = gd.closest('#notebook-container');\n",
              "if (notebookContainer) {{\n",
              "    x.observe(notebookContainer, {childList: true});\n",
              "}}\n",
              "\n",
              "// Listen for the clearing of the current output cell\n",
              "var outputEl = gd.closest('.output');\n",
              "if (outputEl) {{\n",
              "    x.observe(outputEl, {childList: true});\n",
              "}}\n",
              "\n",
              "                        })\n",
              "                };\n",
              "                \n",
              "            </script>\n",
              "        </div>\n",
              "</body>\n",
              "</html>"
            ]
          },
          "metadata": {
            "tags": []
          }
        }
      ]
    },
    {
      "cell_type": "code",
      "metadata": {
        "id": "fWk0li77lCGI",
        "colab_type": "code",
        "colab": {}
      },
      "source": [
        "#https://readthedocs.org/projects/pandas-datareader/downloads/pdf/stable/"
      ],
      "execution_count": 0,
      "outputs": []
    },
    {
      "cell_type": "code",
      "metadata": {
        "id": "j-5SHJgVlM8t",
        "colab_type": "code",
        "colab": {}
      },
      "source": [
        "#https://www.youtube.com/watch?v=uXh-EsWLpyw"
      ],
      "execution_count": 0,
      "outputs": []
    },
    {
      "cell_type": "code",
      "metadata": {
        "id": "BUIn93I277_r",
        "colab_type": "code",
        "colab": {}
      },
      "source": [
        ""
      ],
      "execution_count": 0,
      "outputs": []
    }
  ]
}